{
 "cells": [
  {
   "cell_type": "code",
   "execution_count": 2,
   "id": "96e14bb0-4c19-45fc-9dd3-8d2a2bf6774e",
   "metadata": {},
   "outputs": [
    {
     "data": {
      "text/plain": [
       "12.288"
      ]
     },
     "execution_count": 2,
     "metadata": {},
     "output_type": "execute_result"
    }
   ],
   "source": [
    "import pandas as pd\n",
    "stock_abc = pd.DataFrame({'close' : [11.25, 11.98, 10.74, 11.16, 12.35, 12.87, 13.03, 13.14, 13.37, 12.99]})\n",
    "stock_abc['close'].mean()"
   ]
  },
  {
   "cell_type": "code",
   "execution_count": 4,
   "id": "23a3d52e-fe97-42f3-b2f8-d20cc2629e59",
   "metadata": {},
   "outputs": [
    {
     "data": {
      "text/plain": [
       "13.988"
      ]
     },
     "execution_count": 4,
     "metadata": {},
     "output_type": "execute_result"
    }
   ],
   "source": [
    "import pandas as pd\n",
    "stock_def = pd.DataFrame({'close' : [14.25, 15.98, 11.74, 13.16, 12.35, 14.87, 15.03, 16.14, 13.37, 12.99]})\n",
    "stock_def['close'].mean()"
   ]
  },
  {
   "cell_type": "code",
   "execution_count": null,
   "id": "d480a058-4bec-4da2-a162-824b9d353182",
   "metadata": {},
   "outputs": [],
   "source": []
  }
 ],
 "metadata": {
  "kernelspec": {
   "display_name": "Python 3.9.4 64-bit ('dev': conda)",
   "language": "python",
   "name": "python394jvsc74a57bd00a6b53b808be22ed9015cf5d408376640e4deef689ef9b186ab992a818d0bc32"
  },
  "language_info": {
   "codemirror_mode": {
    "name": "ipython",
    "version": 3
   },
   "file_extension": ".py",
   "mimetype": "text/x-python",
   "name": "python",
   "nbconvert_exporter": "python",
   "pygments_lexer": "ipython3",
   "version": "3.9.4"
  }
 },
 "nbformat": 4,
 "nbformat_minor": 5
}
